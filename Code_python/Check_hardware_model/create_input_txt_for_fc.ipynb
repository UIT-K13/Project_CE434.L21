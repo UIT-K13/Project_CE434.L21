{
 "metadata": {
  "language_info": {
   "codemirror_mode": {
    "name": "ipython",
    "version": 3
   },
   "file_extension": ".py",
   "mimetype": "text/x-python",
   "name": "python",
   "nbconvert_exporter": "python",
   "pygments_lexer": "ipython3",
   "version": "3.8.8"
  },
  "orig_nbformat": 2,
  "kernelspec": {
   "name": "python388jvsc74a57bd05c3f60802471494b60a2e66fd4ecd6fdf92055af140e68ee192931e29e235180",
   "display_name": "Python 3.8.8 64-bit"
  }
 },
 "nbformat": 4,
 "nbformat_minor": 2,
 "cells": [
  {
   "cell_type": "code",
   "execution_count": 1,
   "metadata": {},
   "outputs": [],
   "source": [
    "import numpy as np\n",
    "from bitstring import Bits"
   ]
  },
  {
   "cell_type": "code",
   "execution_count": 30,
   "metadata": {},
   "outputs": [],
   "source": [
    "def convert_int_to_binary(number, bit_width):\n",
    "    if((bit_width%4) != 0):\n",
    "        return str(Bits(int=number, length=bit_width))\n",
    "    else:\n",
    "        temp =  str(Bits(int=number, length=bit_width+1))\n",
    "        return '0b' + temp[-(len(temp)-3):]\n",
    "\n",
    "def convert_binary_to_hex(number, bit_width):\n",
    "\tif(bit_width <= 4):\n",
    "\t\treturn hex(int(number, 2))\n",
    "\telse:\n",
    "\t\tnumber = number[2:len(number)]\n",
    "\t\tdata_ret = ''\n",
    "\t\tindex = np.arange(bit_width, 1, -4)\n",
    "\t\tfor i in range(len(index)):\n",
    "\t\t\tif(index[i] >= 4):\n",
    "\t\t\t\ttemp = hex(int(number[index[i] - 4 : index[i]], 2))\n",
    "\t\t\t\tdata_ret = temp[-1:] + data_ret\n",
    "\t\t\telse:\n",
    "\t\t\t\ttemp = hex(int(number[0 : index[i]], 2))\n",
    "\t\t\t\tdata_ret = temp[-1:] + data_ret\n",
    "\t\t\n",
    "\t\treturn '0x' + data_ret\n",
    "\n",
    "def create_txt_file_for_input_verilog(input_data, bit_width, file_path):\n",
    "    verilog_file = open(file_path, mode = 'w')\n",
    "\n",
    "    input_data = input_data.reshape(-1, 1)\n",
    "\n",
    "    num_node, temp = input_data.shape\n",
    "\n",
    "    for i in range(num_node):\n",
    "        dec_data = int(input_data[i])\n",
    "        bin_data_temp = convert_int_to_binary(dec_data, bit_width)\n",
    "        bin_data = bin_data_temp[-bit_width:]\n",
    "        hex_data = convert_binary_to_hex('0b' + bin_data, bit_width)\n",
    "        if(i != (num_node - 1)):\n",
    "            verilog_file.write(str(hex_data[-(len(hex_data)-2):]) + '\\n')\n",
    "        else:\n",
    "            verilog_file.write(str(hex_data[-(len(hex_data)-2):]))\n",
    "    verilog_file.close()"
   ]
  },
  {
   "cell_type": "code",
   "execution_count": 19,
   "metadata": {},
   "outputs": [],
   "source": [
    "# ============================ Variables  ============================\n",
    "bit_width_quantization_input = 8\n",
    "max_q_input = 2**(bit_width_quantization_input-1)-1\n",
    "min_q_input = -2**(bit_width_quantization_input-1)\n",
    "input_file_path = '../../Weight_and_bias_of_model_verilog/Input.txt'"
   ]
  },
  {
   "cell_type": "code",
   "execution_count": 29,
   "metadata": {},
   "outputs": [
    {
     "output_type": "stream",
     "name": "stdout",
     "text": [
      "[  -5 -127  -32  -61]\n"
     ]
    }
   ],
   "source": [
    "input_data = np.array([  -5, -127,  -32,  -61])\n",
    "print(input_data)"
   ]
  },
  {
   "cell_type": "code",
   "execution_count": 31,
   "metadata": {},
   "outputs": [],
   "source": [
    "# =========================== Input ==========================\n",
    "create_txt_file_for_input_verilog(input_data, bit_width_quantization_input, input_file_path)"
   ]
  }
 ]
}