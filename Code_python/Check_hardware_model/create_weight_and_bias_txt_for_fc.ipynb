{
 "metadata": {
  "language_info": {
   "codemirror_mode": {
    "name": "ipython",
    "version": 3
   },
   "file_extension": ".py",
   "mimetype": "text/x-python",
   "name": "python",
   "nbconvert_exporter": "python",
   "pygments_lexer": "ipython3",
   "version": "3.8.8"
  },
  "orig_nbformat": 2,
  "kernelspec": {
   "name": "python388jvsc74a57bd05c3f60802471494b60a2e66fd4ecd6fdf92055af140e68ee192931e29e235180",
   "display_name": "Python 3.8.8 64-bit"
  }
 },
 "nbformat": 4,
 "nbformat_minor": 2,
 "cells": [
  {
   "cell_type": "code",
   "execution_count": 1,
   "metadata": {},
   "outputs": [],
   "source": [
    "import numpy as np\n",
    "from bitstring import Bits"
   ]
  },
  {
   "cell_type": "code",
   "execution_count": 106,
   "metadata": {},
   "outputs": [],
   "source": [
    "def convert_int_to_binary(number, bit_width):\n",
    "\tif((bit_width%4) != 0):\n",
    "\t\treturn str(Bits(int=number, length=bit_width))\n",
    "\telse:\n",
    "\t\ttemp =  str(Bits(int=number, length=bit_width+1))\n",
    "\t\treturn '0b' + temp[-(len(temp)-3):]\n",
    "\n",
    "def convert_binary_to_hex(number, bit_width):\n",
    "\tif(bit_width <= 4):\n",
    "\t\treturn hex(int(number, 2))\n",
    "\telse:\n",
    "\t\tnumber = number[2:len(number)]\n",
    "\t\tdata_ret = ''\n",
    "\t\tindex = np.arange(bit_width, 1, -4)\n",
    "\t\tfor i in range(len(index)):\n",
    "\t\t\tif(index[i] >= 4):\n",
    "\t\t\t\ttemp = hex(int(number[index[i] - 4 : index[i]], 2))\n",
    "\t\t\t\tdata_ret = temp[-1:] + data_ret\n",
    "\t\t\telse:\n",
    "\t\t\t\ttemp = hex(int(number[0 : index[i]], 2))\n",
    "\t\t\t\tdata_ret = temp[-1:] + data_ret\n",
    "\t\t\n",
    "\t\treturn '0x' + data_ret\n",
    "\n",
    "def create_txt_file_for_w_verilog(data_matrix, num_mutiplier_parallel, bit_width, file_path):\n",
    "\tverilog_file = open(file_path, mode = 'w')\n",
    "\n",
    "\tnum_node_next_layer, num_node_previous_layer = data_matrix.shape\n",
    "\n",
    "\tnum_sub_matrix = round(num_node_next_layer/num_mutiplier_parallel)\n",
    "\trow_sub_matrix = num_mutiplier_parallel\n",
    "\tcol_sub_matrix = num_node_previous_layer\n",
    "\n",
    "\tfor i in range(num_sub_matrix):\n",
    "\t\tsub_matrix = data_matrix[num_mutiplier_parallel*i:num_mutiplier_parallel*(i+1), :]\n",
    "\t\tfor j in range(col_sub_matrix):\n",
    "\t\t\tbin_final = ''\n",
    "\t\t\tfor k in range(row_sub_matrix):\n",
    "\t\t\t\tdec_data = int(sub_matrix[k][j])\n",
    "\t\t\t\tbin_data_temp = convert_int_to_binary(dec_data, bit_width)\n",
    "\t\t\t\tbin_data = bin_data_temp[-bit_width:]\n",
    "\t\t\t\tbin_final = bin_final + bin_data\n",
    "\n",
    "\t\t\tsub_bin_final_0 = convert_binary_to_hex('0b' + bin_final[0:round(len(bin_final)/2)], int(bit_width*row_sub_matrix/2))\n",
    "\t\t\tsub_bin_final_1 = convert_binary_to_hex('0b' + bin_final[-round(len(bin_final)/2):], int(bit_width*row_sub_matrix/2))\n",
    "\n",
    "\t\t\tif((j == (col_sub_matrix - 1)) and (i == num_sub_matrix - 1)):\n",
    "\t\t\t\tverilog_file.write(sub_bin_final_0[-(len(sub_bin_final_0)-2):] + ' ' + sub_bin_final_1[-(len(sub_bin_final_1)-2):])\n",
    "\t\t\telse:\n",
    "\t\t\t\tverilog_file.write(sub_bin_final_0[-(len(sub_bin_final_0)-2):] + ' ' + sub_bin_final_1[-(len(sub_bin_final_1)-2):] + '\\n')\n",
    "\tverilog_file.close()\n",
    "\n",
    "def create_txt_file_for_bias_verilog(data_matrix, num_mutiplier_parallel, bit_width, file_path):\n",
    "\tverilog_file = open(file_path, mode = 'w')\n",
    "\n",
    "\tdata_matrix = data_matrix.reshape(-1, 1)\n",
    "\n",
    "\tnum_node_next_layer, temp = data_matrix.shape\n",
    "\n",
    "\tnum_sub_matrix = round(num_node_next_layer/num_mutiplier_parallel)\n",
    "\tlen_sub_matrix = num_mutiplier_parallel\n",
    "\tfor i in range(num_sub_matrix):\n",
    "\t\tsub_matrix = data_matrix[num_mutiplier_parallel*i:num_mutiplier_parallel*(i+1)]\n",
    "\t\tbin_final = ''\n",
    "\t\tfor j in range(len_sub_matrix):\n",
    "\t\t\tdec_data = int(sub_matrix[j])\n",
    "\t\t\tbin_data_temp = convert_int_to_binary(dec_data, bit_width)\n",
    "\t\t\tbin_data = bin_data_temp[-bit_width:]\n",
    "\t\t\tbin_final = bin_final + bin_data\n",
    "\t\t\n",
    "\t\tsub_bin_final_0 = convert_binary_to_hex('0b' + bin_final[0:round(len(bin_final)/2)], int(bit_width*len_sub_matrix/2))\n",
    "\t\tsub_bin_final_1 = convert_binary_to_hex('0b' + bin_final[-round(len(bin_final)/2):], int(bit_width*len_sub_matrix/2))\n",
    "\n",
    "\t\tif(i == num_sub_matrix - 1):\n",
    "\t\t\tverilog_file.write(sub_bin_final_0[-(len(sub_bin_final_0)-2):] + ' ' + sub_bin_final_1[-(len(sub_bin_final_1)-2):])\n",
    "\t\telse:\n",
    "\t\t\tverilog_file.write(sub_bin_final_0[-(len(sub_bin_final_0)-2):] + ' ' + sub_bin_final_1[-(len(sub_bin_final_1)-2):] + '\\n')\n",
    "\tverilog_file.close()"
   ]
  },
  {
   "cell_type": "code",
   "execution_count": 12,
   "metadata": {},
   "outputs": [],
   "source": [
    "# ============================ Variables  ============================\n",
    "num_mutiplier_parallel_for_acc_0 = 120\n",
    "num_mutiplier_parallel_for_acc_1 = 84\n",
    "num_mutiplier_parallel_for_acc_2 = 2\n",
    "\n",
    "bit_width_quantization_w1 = 8\n",
    "max_q_w1 = 2**(bit_width_quantization_w1-1)-1\n",
    "min_q_w1 = -2**(bit_width_quantization_w1-1)\n",
    "w1_verilog_file_path = '../../Weight_and_bias_of_model_verilog/W1.txt'\n",
    "\n",
    "bit_width_quantization_w2 = 4\n",
    "max_q_w2 = 2**(bit_width_quantization_w2-1)-1\n",
    "min_q_w2 = -2**(bit_width_quantization_w2-1)\n",
    "w2_verilog_file_path = '../../Weight_and_bias_of_model_verilog/W2.txt'\n",
    "\n",
    "bit_width_quantization_w3 = 4\n",
    "max_q_w3 = 2**(bit_width_quantization_w3-1)-1\n",
    "min_q_w3 = -2**(bit_width_quantization_w3-1)\n",
    "w3_verilog_file_path = '../../Weight_and_bias_of_model_verilog/W3.txt'\n",
    "\n",
    "bit_width_quantization_b1 = 8\n",
    "max_q_b1 = 2**(bit_width_quantization_b1-1)-1\n",
    "min_q_b1 = -2**(bit_width_quantization_b1-1)\n",
    "b1_verilog_file_path = '../../Weight_and_bias_of_model_verilog/B1.txt'\n",
    "\n",
    "bit_width_quantization_b2 = 4\n",
    "max_q_b2 = 2**(bit_width_quantization_b2-1)-1\n",
    "min_q_b2 = -2**(bit_width_quantization_b2-1)\n",
    "b2_verilog_file_path = '../../Weight_and_bias_of_model_verilog/B2.txt'\n",
    "\n",
    "bit_width_quantization_b3 = 4\n",
    "max_q_b3 = 2**(bit_width_quantization_b3-1)-1\n",
    "min_q_b3 = -2**(bit_width_quantization_b3-1)\n",
    "b3_verilog_file_path = '../../Weight_and_bias_of_model_verilog/B3.txt'"
   ]
  },
  {
   "cell_type": "code",
   "execution_count": 103,
   "metadata": {},
   "outputs": [
    {
     "output_type": "stream",
     "name": "stdout",
     "text": [
      "[[ -30  -62  116]\n [  90 -106    1]\n [ -48   76  -39]\n [ -56   45   60]]\n"
     ]
    }
   ],
   "source": [
    "data_matrix = np.array([[ -30,  -62,  116],\n",
    "[  90, -106,    1],\n",
    "[ -48,   76,  -39],\n",
    "[ -56,   45,   60]])\n",
    "\"\"\"\n",
    "data_matrix = np.array([[ 0],\n",
    "[ 1],\n",
    "[10],\n",
    "[19], [15], [16], [17], [18]])\n",
    "\"\"\"\n",
    "print(data_matrix)"
   ]
  },
  {
   "cell_type": "code",
   "execution_count": 107,
   "metadata": {},
   "outputs": [],
   "source": [
    "# =========================== Input ==========================\n",
    "create_txt_file_for_bias_verilog(data_matrix, 2, 8, w1_verilog_file_path)"
   ]
  },
  {
   "cell_type": "code",
   "execution_count": 100,
   "metadata": {},
   "outputs": [
    {
     "output_type": "stream",
     "name": "stdout",
     "text": [
      "0b00000001\n0x1\n0x2\n"
     ]
    }
   ],
   "source": [
    "temp = convert_int_to_binary(1, 8)\n",
    "\n",
    "temp_hex = hex(int(temp, 2))\n",
    "\n",
    "temp_hex_new = convert_binary_to_hex('010', 3)\n",
    "\n",
    "print(temp)\n",
    "print(temp_hex)\n",
    "print(temp_hex_new)"
   ]
  },
  {
   "cell_type": "code",
   "execution_count": 22,
   "metadata": {},
   "outputs": [
    {
     "output_type": "stream",
     "name": "stdout",
     "text": [
      "00000001\n"
     ]
    }
   ],
   "source": [
    "print(temp[-8:])"
   ]
  },
  {
   "cell_type": "code",
   "execution_count": 35,
   "metadata": {},
   "outputs": [
    {
     "output_type": "stream",
     "name": "stdout",
     "text": [
      "[12  8  4]\n3\n[12  8]\n"
     ]
    }
   ],
   "source": [
    "a = np.arange(12, 1, -4)\n",
    "print(a)\n",
    "print(len(a))\n",
    "print(a[0:2])"
   ]
  }
 ]
}