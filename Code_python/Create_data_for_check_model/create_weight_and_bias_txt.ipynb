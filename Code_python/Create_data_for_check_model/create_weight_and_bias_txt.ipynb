{
 "metadata": {
  "language_info": {
   "codemirror_mode": {
    "name": "ipython",
    "version": 3
   },
   "file_extension": ".py",
   "mimetype": "text/x-python",
   "name": "python",
   "nbconvert_exporter": "python",
   "pygments_lexer": "ipython3",
   "version": "3.8.8"
  },
  "orig_nbformat": 2,
  "kernelspec": {
   "name": "python388jvsc74a57bd05c3f60802471494b60a2e66fd4ecd6fdf92055af140e68ee192931e29e235180",
   "display_name": "Python 3.8.8 64-bit"
  }
 },
 "nbformat": 4,
 "nbformat_minor": 2,
 "cells": [
  {
   "cell_type": "code",
   "execution_count": 1,
   "metadata": {},
   "outputs": [],
   "source": [
    "import numpy as np\n",
    "import tensorflow as tf\n",
    "import os\n",
    "import cv2"
   ]
  },
  {
   "cell_type": "code",
   "execution_count": 2,
   "metadata": {},
   "outputs": [
    {
     "output_type": "stream",
     "name": "stdout",
     "text": [
      "Model: \"sequential\"\n_________________________________________________________________\nLayer (type)                 Output Shape              Param #   \n=================================================================\nconv2d (Conv2D)              (None, 28, 28, 6)         156       \n_________________________________________________________________\nmax_pooling2d (MaxPooling2D) (None, 14, 14, 6)         0         \n_________________________________________________________________\nconv2d_1 (Conv2D)            (None, 10, 10, 16)        2416      \n_________________________________________________________________\nmax_pooling2d_1 (MaxPooling2 (None, 5, 5, 16)          0         \n_________________________________________________________________\nflatten (Flatten)            (None, 400)               0         \n_________________________________________________________________\ndense (Dense)                (None, 120)               48120     \n_________________________________________________________________\ndense_1 (Dense)              (None, 84)                10164     \n_________________________________________________________________\ndense_2 (Dense)              (None, 10)                850       \n=================================================================\nTotal params: 61,706\nTrainable params: 61,706\nNon-trainable params: 0\n_________________________________________________________________\n"
     ]
    }
   ],
   "source": [
    "model = tf.keras.models.load_model(\"../../Saved_model/50_epochs.h5\")\n",
    "\n",
    "model.summary()"
   ]
  },
  {
   "cell_type": "code",
   "execution_count": 3,
   "metadata": {},
   "outputs": [
    {
     "output_type": "stream",
     "name": "stdout",
     "text": [
      "-------------------------------------\nConv0 layer:  (5, 5, 1, 6)\n-------------------------------------\nBias conv0:  (6, 1)\n-------------------------------------\nConv1 layer:  (5, 5, 6, 16)\n-------------------------------------\nBias conv1:  (16, 1)\n-------------------------------------\nW0:  (120, 400)\n-------------------------------------\nB0:  (120, 1)\n-------------------------------------\nW1:  (84, 120)\n-------------------------------------\nB1:  (84, 1)\n-------------------------------------\nW2:  (10, 84)\n-------------------------------------\nB2:  (10, 1)\n"
     ]
    }
   ],
   "source": [
    "filter_conv_0 = np.zeros((5, 5, 1, 6))\n",
    "bias_conv_0 = np.zeros(6)\n",
    "filter_conv_1 = np.zeros((5, 5, 6, 16))\n",
    "bias_conv_1 = np.zeros(16)\n",
    "W0 = np.zeros((120, 400))\n",
    "B0 = np.zeros(120)\n",
    "W1 = np.zeros((84, 120))\n",
    "B1 = np.zeros(84)\n",
    "W2 = np.zeros((10, 84))\n",
    "B2 = np.zeros(10)\n",
    "\n",
    "for layer in model.layers:\n",
    "  weights = layer.get_weights() # list of numpy arrays\n",
    "  for i in range(len(weights)):\n",
    "    print('-------------------------------------')\n",
    "    \n",
    "    np_weight = np.array(weights[i])\n",
    "\n",
    "    if(np_weight.shape == filter_conv_0.shape):\n",
    "        filter_conv_0 = np_weight\n",
    "        print('Conv0 layer: ', filter_conv_0.shape)\n",
    "    elif(np_weight.shape == bias_conv_0.shape):\n",
    "        bias_conv_0 = np.array(np_weight).reshape(-1, 1)\n",
    "        print('Bias conv0: ', bias_conv_0.shape)\n",
    "    elif(np_weight.shape == filter_conv_1.shape):\n",
    "        filter_conv_1 = np_weight\n",
    "        print('Conv1 layer: ', filter_conv_1.shape)\n",
    "    elif(np_weight.shape == bias_conv_1.shape):\n",
    "        bias_conv_1 = np.array(np_weight).reshape(-1, 1)\n",
    "        print('Bias conv1: ', bias_conv_1.shape)\n",
    "    elif(np_weight.shape == np.transpose(W0).shape):\n",
    "        W0 = np.transpose(np_weight)\n",
    "        print('W0: ', W0.shape)\n",
    "    elif(np_weight.shape == B0.shape):\n",
    "        B0 = np.array(np_weight).reshape(-1, 1)\n",
    "        print('B0: ', B0.shape)\n",
    "    elif(np_weight.shape == np.transpose(W1).shape):\n",
    "        W1 = np.transpose(np_weight)\n",
    "        print('W1: ', W1.shape)\n",
    "    elif(np_weight.shape == B1.shape):\n",
    "        B1 = np.array(np_weight).reshape(-1, 1)\n",
    "        print('B1: ', B1.shape)\n",
    "    elif(np_weight.shape == np.transpose(W2).shape):\n",
    "        W2 = np.transpose(np_weight)\n",
    "        print('W2: ', W2.shape)\n",
    "    elif(np_weight.shape == B2.shape):\n",
    "        B2 = np.array(np_weight).reshape(-1, 1)\n",
    "        print('B2: ', B2.shape)"
   ]
  },
  {
   "cell_type": "code",
   "execution_count": 4,
   "metadata": {},
   "outputs": [],
   "source": [
    "Conv0_path = '../../Weight_and_bias_of_model_python/Conv0.txt'\n",
    "Bias_conv0_path = '../../Weight_and_bias_of_model_python/Bias_conv0.txt'\n",
    "Conv1_path = '../../Weight_and_bias_of_model_python/Conv1.txt'\n",
    "Bias_conv1_path = '../../Weight_and_bias_of_model_python/Bias_conv1.txt'\n",
    "\n",
    "W0_path = '../../Weight_and_bias_of_model_python/W0.txt'\n",
    "W1_path = '../../Weight_and_bias_of_model_python/W1.txt'\n",
    "W2_path = '../../Weight_and_bias_of_model_python/W2.txt'\n",
    "\n",
    "B0_path = '../../Weight_and_bias_of_model_python/B0.txt'\n",
    "B1_path = '../../Weight_and_bias_of_model_python/B1.txt'\n",
    "B2_path = '../../Weight_and_bias_of_model_python/B2.txt'"
   ]
  },
  {
   "cell_type": "code",
   "execution_count": 5,
   "metadata": {},
   "outputs": [],
   "source": [
    "def write_W_and_Bias_to_txt(Data, Data_path):\n",
    "    Data_file = open(Data_path, mode = 'w')\n",
    "\n",
    "    row, col = Data.shape\n",
    "\n",
    "    for i in range(row):\n",
    "        for j in range(col):\n",
    "            if(j != (col - 1)):\n",
    "\t            Data_file.write(str(Data[i][j]) + ' ')\n",
    "            else:\n",
    "\t            Data_file.write(str(Data[i][j]))\n",
    "        if(i != (row - 1)):\n",
    "            Data_file.write('\\n')\n",
    "    Data_file.close()"
   ]
  },
  {
   "cell_type": "code",
   "execution_count": 6,
   "metadata": {},
   "outputs": [],
   "source": [
    "def write_conv_to_txt(Data, Conv_path):\n",
    "    Conv_file = open(Conv_path, mode = 'w')\n",
    "\n",
    "    row, col, num_sub_filter, num_filter = Data.shape\n",
    "\n",
    "    for m in range(num_filter):\n",
    "        all_filter_data = Data[:, :, :, m]\n",
    "        for k in range(num_sub_filter):\n",
    "            filter_data = all_filter_data[:, :, k]\n",
    "            for i in range(row):\n",
    "                for j in range(col):\n",
    "                    if(j != (col - 1)):\n",
    "                        Conv_file.write(str(filter_data[i][j]) + ' ')\n",
    "                    else:\n",
    "                        Conv_file.write(str(filter_data[i][j]))\n",
    "                \n",
    "                if(i != (row - 1) or k != (num_sub_filter - 1) or m != (num_filter - 1)):\n",
    "                    Conv_file.write('\\n')\n",
    "    Conv_file.close()"
   ]
  },
  {
   "cell_type": "code",
   "execution_count": 7,
   "metadata": {},
   "outputs": [],
   "source": [
    "write_conv_to_txt(filter_conv_0, Conv0_path)\n",
    "write_W_and_Bias_to_txt(bias_conv_0, Bias_conv0_path)\n",
    "write_conv_to_txt(filter_conv_1, Conv1_path)\n",
    "write_W_and_Bias_to_txt(bias_conv_1, Bias_conv1_path)\n",
    "\n",
    "write_W_and_Bias_to_txt(W0, W0_path)\n",
    "write_W_and_Bias_to_txt(W1, W1_path)\n",
    "write_W_and_Bias_to_txt(W2, W2_path)\n",
    "\n",
    "write_W_and_Bias_to_txt(B0, B0_path)\n",
    "write_W_and_Bias_to_txt(B1, B1_path)\n",
    "write_W_and_Bias_to_txt(B2, B2_path)"
   ]
  }
 ]
}